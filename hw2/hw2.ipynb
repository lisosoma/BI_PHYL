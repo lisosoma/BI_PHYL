{
 "cells": [
  {
   "cell_type": "code",
   "execution_count": 1,
   "id": "5c70fe69",
   "metadata": {},
   "outputs": [],
   "source": [
    "from Bio import Entrez\n",
    "import eutils"
   ]
  },
  {
   "cell_type": "code",
   "execution_count": 2,
   "id": "1c098f79",
   "metadata": {},
   "outputs": [],
   "source": [
    "Entrez.email = 'your.email@example.com'"
   ]
  },
  {
   "cell_type": "markdown",
   "id": "2f8aecc3",
   "metadata": {},
   "source": [
    "#1. (esearch) ищет PubMed статьи по интересному для вас запросу"
   ]
  },
  {
   "cell_type": "code",
   "execution_count": 3,
   "id": "91b5e530",
   "metadata": {},
   "outputs": [
    {
     "name": "stdout",
     "output_type": "stream",
     "text": [
      "{'Count': '65', 'RetMax': '20', 'RetStart': '0', 'IdList': ['35010161', '34436301', '33919403', '33465290', '32851672', '32596057', '32236233', '31813041', '30860355', '29683674', '29178679', '28851818', '26220698', '25797168', '25605312', '24782450', '23570752', '23510436', '23441225', '22869108'], 'TranslationSet': [], 'TranslationStack': [{'Term': 'crustacyanin[All Fields]', 'Field': 'All Fields', 'Count': '65', 'Explode': 'N'}, 'GROUP'], 'QueryTranslation': 'crustacyanin[All Fields]'}\n"
     ]
    }
   ],
   "source": [
    "handle = Entrez.esearch(db = \"pubmed\", term = \"crustacyanin\")\n",
    "record = Entrez.read(handle)\n",
    "print(record)"
   ]
  },
  {
   "cell_type": "markdown",
   "id": "b8d3e62d",
   "metadata": {},
   "source": [
    "#2. (efetch) возвращает асбтракты от первых трех статей в простом текстовом файле"
   ]
  },
  {
   "cell_type": "code",
   "execution_count": 4,
   "id": "12898be9",
   "metadata": {},
   "outputs": [
    {
     "data": {
      "text/plain": [
       "'\\n1. Foods. 2021 Dec 23;11(1). pii: 35. doi: 10.3390/foods11010035.\\n\\nPurification and Characterisation of Two Novel Pigment Proteins from the Carapace\\nof Red Swamp Crayfish (Procambarus clarkii).\\n\\nChen H(1)(2), Ji H(1)(3)(4)(5)(6), Pan C(6)(7), Zhang D(1)(3)(4)(5), Su\\nW(1)(3)(4)(5), Liu S(1)(3)(4)(5)(6), Deng Y(1), Huang X(1).\\n\\nAuthor information: \\n(1)Guangdong Provincial Key Laboratory of Aquatic Product Processing and Safety, \\nCollege of Food Science and Technology, Guangdong Ocean University, Zhanjiang\\n524088, China.\\n(2)Hunan Provincial Key Laboratory of Soybean Products Processing and Safety\\nControl, College of Food and Chemical Engineering, Shaoyang University, Shaoyang \\n422000, China.\\n(3)Guangdong Provincial Engineering Technology Research Center of Seafood,\\nCollege of Food Science and Technology, Guangdong Ocean University, Zhanjiang\\n524088, China.\\n(4)Guangdong Province Engineering Laboratory for Marine Biological Products,\\nCollege of Food Science and Technology, Guangdong Ocean University, Zhanjiang\\n524088, China.\\n(5)Key Laboratory of Advanced Processing of Aquatic Product of Guangdong Higher\\nEducation Institution, College of Food Science and Technology, Guangdong Ocean\\nUniversity, Zhanjiang 524088, China.\\n(6)Collaborative Innovation Center of Seafood Deep Processing, Dalian Polytechnic\\nUniversity, Dalian 116034, China.\\n(7)South China Sea Fisheries Research Institute, Chinese Academy of Fishery\\nSciences, Guangzhou 510300, China.\\n\\nPigment proteins play a vital role in the red colour change of the red swamp\\ncrayfish (Procambarus clarkii) shell after cooking. In this study, two\\nred-change-related pigment proteins with molecular weights of approximately 170\\nand 43 kDa-denoted as F1 and F2, respectively-were purified by ammonium sulphate \\nsalting-out and size exclusion chromatography. F1 and F2 entirely comprised\\nhomomultimeric protein complexes composed of 21 kDa subunits. LC-MS/MS analysis\\nshowed that the 21 kDa protein subunit belonged to the crustacyanin family, named\\nP. clarkii crustacyanin A2 (PcCRA2). The full-length cDNA of PcCRA2 was cloned,\\nwhich encoded 190 amino acid residues and was highly homologous (91.58%) with\\nCherax quadricarinatus crustacyanin A. The predicted 3D structure showed that\\nPcCRA2 had a β-barrel structure for pigment encapsulation. The colour change of\\nF1 was first detected at 40 °C, and the red change occurred upon heating above 60\\n°C. Additionally, with increasing temperature, its β-sheet content increased, and\\nits α-helix content reduced. Correlation analysis showed that the redness value\\nof F1 was significantly related to the heating temperature and the β-sheet\\ncontent.\\n\\nDOI: 10.3390/foods11010035 \\nPMCID: PMC8750329\\nPMID: 35010161 \\n\\n\\n2. Mar Drugs. 2021 Aug 16;19(8). pii: 462. doi: 10.3390/md19080462.\\n\\nA Method of Solubilizing and Concentrating Astaxanthin and Other Carotenoids.\\n\\nHara KY(1)(2), Yagi S(1), Hirono-Hara Y(2), Kikukawa H(1)(2).\\n\\nAuthor information: \\n(1)Laboratory of Environmental Bioengineering, Graduate Division of Nutritional\\nand Environmental Sciences, University of Shizuoka, 52-1 Yada, Suruga-ku,\\nShizuoka 422-8526, Japan.\\n(2)Department of Environmental and Life Sciences, School of Food and Nutritional \\nSciences, University of Shizuoka, 52-1 Yada, Suruga-ku, Shizuoka 422-8526, Japan.\\n\\nThe valuable marine carotenoid, astaxanthin, is used in supplements, medicines\\nand cosmetics. In this study, crustacyanin, an astaxanthin-binding protein, was\\nused to solubilize and concentrate astaxanthin. The recombinant crustacyanin of\\nEuropean lobster spontaneously formed an inclusion body when it was\\nover-expressed in Escherichia coli. In this study, fusing the NusA-tag to the\\ncrustacyanin subunits made it possible to express in a soluble fraction and\\nsolubilize astaxanthin in aqueous solution. By cutting off the NusA-tag, the\\ncrustacyanin subunits generated the pure insoluble form, and captured and\\nconcentrated astaxanthin. Overall, the attaching and releasing NusA-tag method\\nhas the potential to supply solubilized carotenoids in aqueous solution and\\nconcentrated carotenoids, respectively.\\n\\nDOI: 10.3390/md19080462 \\nPMCID: PMC8399374\\nPMID: 34436301  [Indexed for MEDLINE]\\n\\n'"
      ]
     },
     "execution_count": 4,
     "metadata": {},
     "output_type": "execute_result"
    }
   ],
   "source": [
    "mshandle = Entrez.efetch(db=\"pubmed\", id=record[\"IdList\"][0:2], rettype=\"abstract\", retmode=\"text\")\n",
    "mshandle.read()"
   ]
  },
  {
   "cell_type": "markdown",
   "id": "8d5b8c7e",
   "metadata": {},
   "source": [
    "#3. запрашивает в базе нуклеотидных последовательностей все последовательности по названию гена для организма по названию вида и возвращает xml"
   ]
  },
  {
   "cell_type": "code",
   "execution_count": 13,
   "id": "3c95f1ee",
   "metadata": {},
   "outputs": [
    {
     "data": {
      "text/plain": [
       "<_io.TextIOWrapper encoding='UTF-8'>"
      ]
     },
     "execution_count": 13,
     "metadata": {},
     "output_type": "execute_result"
    }
   ],
   "source": [
    "handle = Entrez.esearch(db = \"nucleotide\", term = \"agrotis AND Agrotis exclamationis[orgn]\")\n",
    "record = Entrez.read(handle)\n",
    "Entrez.efetch(db = \"nucleotide\", id = record[\"IdList\"])"
   ]
  },
  {
   "cell_type": "markdown",
   "id": "38419011",
   "metadata": {},
   "source": [
    "#4. ищет ID организма по названию в базе"
   ]
  },
  {
   "cell_type": "code",
   "execution_count": 14,
   "id": "aa15607c",
   "metadata": {},
   "outputs": [
    {
     "name": "stdout",
     "output_type": "stream",
     "text": [
      "{'Count': '1', 'RetMax': '1', 'RetStart': '0', 'IdList': ['215162'], 'TranslationSet': [], 'TranslationStack': [{'Term': 'Agrotis exclamationis[All Names]', 'Field': 'All Names', 'Count': '1', 'Explode': 'N'}, 'GROUP'], 'QueryTranslation': 'Agrotis exclamationis[All Names]'}\n",
      "['215162']\n"
     ]
    }
   ],
   "source": [
    "handle = Entrez.esearch(db = \"taxonomy\", term = \"Agrotis exclamationis\")\n",
    "record = Entrez.read(handle)\n",
    "print(record)\n",
    "print(record['IdList'])"
   ]
  },
  {
   "cell_type": "markdown",
   "id": "422d68a9",
   "metadata": {},
   "source": [
    "#5. запрашивает в базе нуклеотидных последовательностей по названию гена,  после чего возвращает таблицу с UID (в XML это поле называется Id), accession number (в XML это поле называется Caption), длиной последовательности (Slen)"
   ]
  },
  {
   "cell_type": "code",
   "execution_count": 15,
   "id": "4112bee8",
   "metadata": {},
   "outputs": [],
   "source": [
    "handle = Entrez.esearch(db=\"protein\", term=\"agrotis AND Agrotis exclamationis[orgn]\")\n",
    "record = Entrez.read(handle)\n",
    "with open(\"id_capt_len_py.txt\", \"w\") as ouf:\n",
    "    for rec in record[\"IdList\"]:\n",
    "        temphandle = Entrez.read(Entrez.esummary(db=\"protein\", id=rec, retmode=\"text\"))\n",
    "        ouf.write(temphandle[0]['Id']+\"\\t\"+temphandle[0]['Caption']+\"\\t\"+str(int(temphandle[0]['Length']))+\"\\n\")"
   ]
  },
  {
   "cell_type": "markdown",
   "id": "e96b2e20",
   "metadata": {},
   "source": [
    "#6. даёт в базу нуклеотидных или белковых последовательностей текстовый, а затем возвращает  последовательности в  формате fasta,  которые записывает в файл"
   ]
  },
  {
   "cell_type": "code",
   "execution_count": 20,
   "id": "94f5e640",
   "metadata": {},
   "outputs": [],
   "source": [
    "handle = Entrez.esearch(db=\"protein\", term=\"agrotis AND Agrotis exclamationis[orgn]\")\n",
    "record = Entrez.read(handle)\n",
    "Entrez.efetch(db=\"protein\", id=record[\"IdList\"], retmode=\"text\", rettype=\"fasta\").read()\n",
    "with open(\"agex.fasta\", \"w\") as ouf:\n",
    "    for rec in record[\"IdList\"]:\n",
    "        lne = Entrez.efetch(db=\"protein\", id=rec, retmode=\"text\", rettype=\"fasta\").read()\n",
    "        ouf.write(lne+\"\\n\")"
   ]
  },
  {
   "cell_type": "markdown",
   "id": "35808eab",
   "metadata": {},
   "source": [
    "#7. скачивает белок, соответствующий известному UID нуклеотида"
   ]
  },
  {
   "cell_type": "code",
   "execution_count": 18,
   "id": "e926c7cf",
   "metadata": {},
   "outputs": [],
   "source": [
    "lhandle = Entrez.elink(dbfrom=\"nucleotide\", db=\"protein\", id=\"2065188392\") ##pubmed default\n",
    "lrecord = Entrez.read(lhandle)\n",
    "prothandle = lrecord[0][\"LinkSetDb\"][0]['Link'][0]['Id']\n",
    "rrecord = Entrez.efetch(db=\"protein\", id=prothandle, rettype=\"fasta\", retmode=\"text\")\n",
    "with open (\"prot_from_nt.fasta\", \"w\") as ouf:\n",
    "    ouf.write(rrecord.read()+\"\\n\")"
   ]
  },
  {
   "cell_type": "markdown",
   "id": "10012c3b",
   "metadata": {},
   "source": [
    "#8. скачивает все последовательности из работы с PMID  … (например, из первого задания) и пишет их в файл fasta"
   ]
  },
  {
   "cell_type": "code",
   "execution_count": 19,
   "id": "793a513f",
   "metadata": {},
   "outputs": [],
   "source": [
    "lhandle = Entrez.elink(dbfrom=\"pubmed\", db=\"nucleotide\", id=\"20558169\")\n",
    "lrecord = Entrez.read(lhandle)\n",
    "ids = []\n",
    "for el in lrecord[0][\"LinkSetDb\"][0][\"Link\"]:\n",
    "    ids.append(el['Id'])\n",
    "rrecord = Entrez.efetch(db=\"nucleotide\", id=ids[:4], rettype=\"fasta\", retmode=\"text\")\n",
    "with open (\"py_fasta_pmid.fasta\", \"w\") as ouf:\n",
    "    ouf.write(rrecord.read()+\"\\n\")"
   ]
  }
 ],
 "metadata": {
  "kernelspec": {
   "display_name": "Python 3 (ipykernel)",
   "language": "python",
   "name": "python3"
  },
  "language_info": {
   "codemirror_mode": {
    "name": "ipython",
    "version": 3
   },
   "file_extension": ".py",
   "mimetype": "text/x-python",
   "name": "python",
   "nbconvert_exporter": "python",
   "pygments_lexer": "ipython3",
   "version": "3.9.7"
  }
 },
 "nbformat": 4,
 "nbformat_minor": 5
}
